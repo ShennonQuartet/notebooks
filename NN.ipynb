{
 "cells": [
  {
   "cell_type": "code",
   "execution_count": 27,
   "metadata": {},
   "outputs": [],
   "source": [
    "import pandas as pd\n",
    "import numpy as np\n",
    "import random\n",
    "import matplotlib.pyplot as plt\n",
    "import seaborn as sns\n",
    "%matplotlib inline"
   ]
  },
  {
   "cell_type": "code",
   "execution_count": 2,
   "metadata": {},
   "outputs": [],
   "source": [
    "df = pd.read_csv('data/task1/dataset.csv', encoding='cp1251')"
   ]
  },
  {
   "cell_type": "code",
   "execution_count": 3,
   "metadata": {},
   "outputs": [],
   "source": [
    "stops = pd.read_csv('data/task1/stops.csv')"
   ]
  },
  {
   "cell_type": "code",
   "execution_count": 4,
   "metadata": {},
   "outputs": [],
   "source": [
    "pd.set_option('display.max_colwidth', 200)"
   ]
  },
  {
   "cell_type": "code",
   "execution_count": 5,
   "metadata": {},
   "outputs": [],
   "source": [
    "df.date = pd.to_datetime(df.date, infer_datetime_format=True)"
   ]
  },
  {
   "cell_type": "code",
   "execution_count": 6,
   "metadata": {},
   "outputs": [
    {
     "name": "stdout",
     "output_type": "stream",
     "text": [
      "                  date       type\n",
      "0  2017-01-11 11:03:00       stop\n",
      "1  2017-01-30 08:51:00       stop\n",
      "2  2017-02-24 17:45:00       stop\n",
      "3  2017-03-07 00:16:00       stop\n",
      "4  2017-03-08 11:23:00  vibrosito\n",
      "5  2017-03-08 15:56:00  vibrosito\n",
      "6  2017-03-10 17:55:00       stop\n",
      "7  2017-03-31 01:42:00  vibrosito\n",
      "8  2017-04-01 07:45:00       stop\n",
      "9  2017-04-03 20:48:00       stop\n",
      "10 2017-04-21 10:02:00       stop\n",
      "11 2017-04-24 13:51:00       stop\n",
      "12 2017-06-04 13:23:00       stop\n",
      "13 2017-06-06 13:32:00  vibrosito\n",
      "14 2017-06-07 16:29:00  vibrosito\n",
      "15 2017-10-06 03:21:00       stop\n",
      "16 2017-10-08 16:00:00       stop\n",
      "17 2017-10-14 14:13:00       stop\n",
      "18 2017-10-15 09:34:00  vibrosito\n",
      "19 2017-10-21 02:23:00       stop\n",
      "20 2017-11-07 04:13:00       stop\n",
      "21 2017-11-09 04:00:00       stop\n",
      "22 2017-11-10 13:06:00       stop\n",
      "23 2017-11-14 05:20:00       stop\n",
      "24 2017-11-16 21:25:00       stop\n",
      "25 2017-11-19 01:55:00  vibrosito\n",
      "26 2017-11-19 11:21:00  vibrosito\n",
      "27 2017-11-21 22:53:00       stop\n",
      "28 2017-12-09 08:12:00  vibrosito\n",
      "29 2017-12-09 21:36:00  vibrosito\n",
      "..                 ...        ...\n",
      "36 2017-12-12 12:12:00  vibrosito\n",
      "37 2017-12-12 17:40:00  vibrosito\n",
      "38 2017-12-15 00:46:00  vibrosito\n",
      "39 2017-12-15 14:17:00  vibrosito\n",
      "40 2017-12-15 19:58:00  vibrosito\n",
      "41 2017-12-16 09:12:00  vibrosito\n",
      "42 2017-12-16 22:03:00  vibrosito\n",
      "43 2017-12-17 15:22:00  vibrosito\n",
      "44 2017-12-18 03:50:00  vibrosito\n",
      "45 2017-12-18 14:52:00  vibrosito\n",
      "46 2017-12-20 08:27:00  vibrosito\n",
      "47 2018-01-11 20:07:00  vibrosito\n",
      "48 2018-01-15 14:19:00  vibrosito\n",
      "49 2018-01-19 14:18:00  vibrosito\n",
      "50 2018-01-19 23:37:00  vibrosito\n",
      "51 2018-01-20 15:49:00  vibrosito\n",
      "52 2018-01-21 06:24:00  vibrosito\n",
      "53 2018-01-21 12:33:00  vibrosito\n",
      "54 2018-01-23 06:16:00  vibrosito\n",
      "55 2018-01-23 21:06:00  vibrosito\n",
      "56 2018-01-26 10:13:00  vibrosito\n",
      "57 2018-02-03 23:56:00  vibrosito\n",
      "58 2018-02-04 16:22:00  vibrosito\n",
      "59 2018-02-05 11:31:00  vibrosito\n",
      "60 2018-02-05 21:30:00  vibrosito\n",
      "61 2018-02-06 07:46:00  vibrosito\n",
      "62 2018-02-15 02:47:00  vibrosito\n",
      "63 2018-02-15 11:16:00  vibrosito\n",
      "64 2018-03-03 21:45:00  vibrosito\n",
      "65 2018-04-02 18:45:00  vibrosito\n",
      "\n",
      "[66 rows x 2 columns]\n"
     ]
    }
   ],
   "source": [
    "stops.date = pd.to_datetime(stops.date, dayfirst=True)\n",
    "print(stops)"
   ]
  },
  {
   "cell_type": "code",
   "execution_count": 7,
   "metadata": {},
   "outputs": [
    {
     "data": {
      "text/plain": [
       "date                                            0\n",
       "RF.21304.Ток...213MII904A                   77760\n",
       "S.C.ВПУСК.ПП.ДАВЛ...214PI226AA             151199\n",
       "S.C.ВПУСК.ПП.ДАВЛ...214PI226AB             151199\n",
       "S.C.ВПУСК.ПП.ТЕМП...214TI232A              151199\n",
       "SPEED.CONTROLLER...250MSIC001.PV           155519\n",
       "XX21401.МАСС.РАСХ.ГРАНУЛ...214FIC112.PV     77760\n",
       "ДАВЛ.ВАЛ.ВПЕР.УПР...214PIC232A             151199\n",
       "ДВИГАТЕЛЬ.ГРАНУЛЯТОРА...214MSIC981          77760\n",
       "Е.21402А....ГР.ВОДА.ВЫХ...214TIC101A       151199\n",
       "ЕХ21401.АЕ01.MFR...214AI200A                77760\n",
       "НАГНЕТАНИЕ.В.EX.21401...250PI001            77760\n",
       "ПОЛОЖ.НОЖА..ГРАНУЛЯТОРА...214ZI211A        151199\n",
       "ПОЛОЖ.ЩЕЛ.ДИСКА...214ZI202A                155519\n",
       "РАСХОД.В....EX.21401...250FIC001.PV         77760\n",
       "РАСХОД.ЛИНИИ.P.W...214FI205A               151199\n",
       "СЕКТ.ПИТАТЕЛЬ.RF21304...213MSIC904.PV       77760\n",
       "СПЕЦ.ЭНЕРГИЯ...214JYY200A                   77760\n",
       "ТЕМП.ЛИН.Г.В..ДР.ЛИН....214TI247A           77760\n",
       "ТЕМП.ЛИН.Г.В..ЛИН.РАЗ....214TI246A         151199\n",
       "ТЕМП.ФИЛЬЕРЫ...214TI235A                   151199\n",
       "ТЕМП.ЩЕЛ.ДИСК.УПР...214TIC214A              77760\n",
       "ТЕМПЕРАТУРА.EX.21401...250TI004             77760\n",
       "ТЕМПЕРАТУРА.ОБОРОТН.ВОДЫ...250TIC003.PV     77760\n",
       "ТОК.ДВИГ.ГРАНУЛЯТ...214II217A               77760\n",
       "УПРАВЛЕНИЕ..P.25001A...250HIC001A           77760\n",
       "УРОВЕНЬ.В...V.25001A...250LI001A            77760\n",
       "ФАКТ.РАСХОД.ПРОП...213FY070                 77760\n",
       "ФАКТ.РАСХОД.ПРОП...213FY070_R               77760\n",
       "ФИЛЬЕРА.ПП.ДАВЛ...214PI227AA               151199\n",
       "ФИЛЬЕРА.ПП.ДАВЛ...214PI227AB               151199\n",
       "ФИЛЬЕРА.ПП.ТЕМП...214TI233A                151199\n",
       "ЦИЛ..2.ТЕМП.УПР...214TIC206A                77760\n",
       "ЦИЛ..3.ТЕМП.НАГР...214TI216A               151199\n",
       "ЦИЛ..3.ТЕМП.УПР...214TIC207A               155519\n",
       "ЦИЛ..4.ТЕМП.УПР...214TIC208A               151199\n",
       "ЦИЛ..5.ТЕМП.УПР...214TIC209A               151199\n",
       "ЦИЛ..6.ТЕМП.УПР...214TIC210A               151199\n",
       "ЦИЛ..7.ТЕМП.УПР...214TIC211A               151199\n",
       "ЦИЛ..8.ТЕМП.УПР...214TIC212A               151199\n",
       "ЦИЛ..9.ТЕМП.УПР...214TIC213A               155519\n",
       "ЭКСТР.ДВИГ.ВЛАСТЬ...214JI200A              155519\n",
       "ЭКСТР.ДВИГ.ПОТОК...214II200A                77760\n",
       "H2.C3..КОНТР.СООТН...212AIC008.PV           79020\n",
       "dtype: int64"
      ]
     },
     "execution_count": 7,
     "metadata": {},
     "output_type": "execute_result"
    }
   ],
   "source": [
    "df.isna().sum()"
   ]
  },
  {
   "cell_type": "code",
   "execution_count": 8,
   "metadata": {},
   "outputs": [],
   "source": [
    "df = df.merge(stops, left_on='date', right_on='date', how='outer')"
   ]
  },
  {
   "cell_type": "code",
   "execution_count": 9,
   "metadata": {},
   "outputs": [],
   "source": [
    "df['type'].replace(['vibrosito', 'stop'], 1, inplace=True)\n",
    "df['type'].fillna(method='backfill', limit=180, inplace=True)\n",
    "df.fillna(0, inplace=True)"
   ]
  },
  {
   "cell_type": "code",
   "execution_count": 10,
   "metadata": {},
   "outputs": [],
   "source": [
    "df = df.rename(index=str, columns={\"type\": \"target\"})"
   ]
  },
  {
   "cell_type": "code",
   "execution_count": 11,
   "metadata": {},
   "outputs": [],
   "source": [
    "n = df[df.date > pd.Timestamp('2018-01-01 00:00:00')].count()[0]\n",
    "df.drop(df.index[-n:], inplace=True)"
   ]
  },
  {
   "cell_type": "code",
   "execution_count": 12,
   "metadata": {},
   "outputs": [],
   "source": [
    "target = df['target']"
   ]
  },
  {
   "cell_type": "code",
   "execution_count": 133,
   "metadata": {},
   "outputs": [],
   "source": [
    "from keras.callbacks import ModelCheckpoint\n",
    "from keras.models import Model, load_model, Sequential\n",
    "from keras.layers import Dense, Activation, Dropout, Input, Masking, TimeDistributed, LSTM, Conv1D\n",
    "from keras.layers import GRU, Bidirectional, BatchNormalization, Reshape\n",
    "from keras.optimizers import Adam\n",
    "from keras import backend as K"
   ]
  },
  {
   "cell_type": "code",
   "execution_count": 134,
   "metadata": {},
   "outputs": [],
   "source": [
    "def f1_score(true, pred):\n",
    "    p = precision(true, pred)\n",
    "    r = recall(true, pred)\n",
    "    return 2 * (p * r) / (p + r + 1e-6)\n",
    "\n",
    "def recall(y_true, y_pred):\n",
    "    true_positives = K.sum(K.round(K.clip(y_true * y_pred, 0, 1)))\n",
    "    possible_positives = K.sum(K.round(K.clip(y_true, 0, 1)))\n",
    "    recall = true_positives / (possible_positives + K.epsilon())\n",
    "    return recall\n",
    "\n",
    "def precision(y_true, y_pred):\n",
    "    true_positives = K.sum(K.round(K.clip(y_true * y_pred, 0, 1)))\n",
    "    predicted_positives = K.sum(K.round(K.clip(y_pred, 0, 1)))\n",
    "    precision = true_positives / (predicted_positives + K.epsilon())\n",
    "    return precision"
   ]
  },
  {
   "cell_type": "code",
   "execution_count": 14,
   "metadata": {},
   "outputs": [],
   "source": [
    "def get_model(input_shape):\n",
    "    \n",
    "    X_input = Input(shape = input_shape)\n",
    "    \n",
    "    X = Conv1D(196, kernel_size=20, strides=10)(X_input)                           \n",
    "    X = BatchNormalization()(X)                                \n",
    "    X = Activation('relu')(X)                                 \n",
    "    X = Dropout(0.8)(X)                                 \n",
    "\n",
    "    X = GRU(units = 128, return_sequences = True)(X) \n",
    "    X = Dropout(0.8)(X)                              \n",
    "    X = BatchNormalization()(X)                      \n",
    "    \n",
    "    X = GRU(units = 128, return_sequences = True)(X) \n",
    "    X = Dropout(0.8)(X)                              \n",
    "    X = BatchNormalization()(X)                      \n",
    "    X = Dropout(0.8)(X)                              \n",
    "    \n",
    "    X = TimeDistributed(Dense(1, activation = \"sigmoid\"))(X) \n",
    "\n",
    "    model = Model(inputs = X_input, outputs = X)\n",
    "    \n",
    "    return model"
   ]
  },
  {
   "cell_type": "code",
   "execution_count": 15,
   "metadata": {},
   "outputs": [],
   "source": [
    "X_df = df.iloc[:, 1:-1].values\n",
    "y_df = df.iloc[:, -1].values"
   ]
  },
  {
   "cell_type": "code",
   "execution_count": 54,
   "metadata": {},
   "outputs": [],
   "source": [
    "sample = df.count()[0]\n",
    "seq_len = 2160"
   ]
  },
  {
   "cell_type": "code",
   "execution_count": 29,
   "metadata": {},
   "outputs": [
    {
     "data": {
      "text/plain": [
       "0.002284669865204478"
      ]
     },
     "execution_count": 29,
     "metadata": {},
     "output_type": "execute_result"
    }
   ],
   "source": [
    "40*30*6/3151440"
   ]
  },
  {
   "cell_type": "code",
   "execution_count": 48,
   "metadata": {},
   "outputs": [],
   "source": [
    "X_0_train = []\n",
    "while len(X_0_train) < 500:\n",
    "    n = random.randint(seq_len, sample*3//4)\n",
    "    X_0_train.append(df.iloc[n-seq_len:n, 1:].values)"
   ]
  },
  {
   "cell_type": "code",
   "execution_count": 49,
   "metadata": {},
   "outputs": [],
   "source": [
    "indices_with_ones = df[df['target'] == 1].index.tolist()\n",
    "indices_with_ones_train = indices_with_ones[:len(indices_with_ones)*3//4]\n",
    "X_1_train = []\n",
    "while len(X_1_train) < 500:\n",
    "    i = int(random.choice(indices_with_ones))\n",
    "    corr = random.randint(0, seq_len//2)\n",
    "    X_1_train.append(df.iloc[i+corr-seq_len:i+corr, 1:].values)"
   ]
  },
  {
   "cell_type": "code",
   "execution_count": 55,
   "metadata": {},
   "outputs": [],
   "source": [
    "X_0_test = []\n",
    "while len(X_0_test) < 200:\n",
    "    n = random.randint(sample*3//4, sample)\n",
    "    X_0_test.append(df.iloc[n-seq_len:n, 1:].values)"
   ]
  },
  {
   "cell_type": "code",
   "execution_count": 56,
   "metadata": {},
   "outputs": [],
   "source": [
    "indices_with_ones_test = indices_with_ones[len(indices_with_ones)*3//4:]\n",
    "X_1_test = []\n",
    "while len(X_1_test) < 200:\n",
    "    i = int(random.choice(indices_with_ones))\n",
    "    corr = random.randint(0, seq_len//2)\n",
    "    X_1_test.append(df.iloc[i+corr-seq_len:i+corr, 1:].values)"
   ]
  },
  {
   "cell_type": "code",
   "execution_count": 86,
   "metadata": {},
   "outputs": [],
   "source": [
    "X_train = X_0_train + X_0_train\n",
    "X_test = X_0_test + X_1_test\n",
    "X_train = np.array(X_train)\n",
    "X_test = np.array(X_test)"
   ]
  },
  {
   "cell_type": "code",
   "execution_count": 90,
   "metadata": {},
   "outputs": [
    {
     "name": "stdout",
     "output_type": "stream",
     "text": [
      "(1000, 2160, 43) (1000, 215, 1)\n"
     ]
    }
   ],
   "source": [
    "X = X_train[:,:,:-1]\n",
    "y = X_train[:,:-10:10,-1:]\n",
    "print(X.shape, y.shape)"
   ]
  },
  {
   "cell_type": "code",
   "execution_count": 95,
   "metadata": {},
   "outputs": [],
   "source": [
    "model = get_model(input_shape = (2160, 43))"
   ]
  },
  {
   "cell_type": "code",
   "execution_count": 135,
   "metadata": {},
   "outputs": [],
   "source": [
    "opt = Adam(lr=0.1, beta_1=0.9, beta_2=0.999, decay=0.01)\n",
    "model.compile(loss='binary_crossentropy', optimizer=opt, metrics=[\"accuracy\", f1_score])"
   ]
  },
  {
   "cell_type": "code",
   "execution_count": 97,
   "metadata": {},
   "outputs": [
    {
     "name": "stdout",
     "output_type": "stream",
     "text": [
      "_________________________________________________________________\n",
      "Layer (type)                 Output Shape              Param #   \n",
      "=================================================================\n",
      "input_3 (InputLayer)         (None, 2160, 43)          0         \n",
      "_________________________________________________________________\n",
      "conv1d_3 (Conv1D)            (None, 215, 196)          168756    \n",
      "_________________________________________________________________\n",
      "batch_normalization_7 (Batch (None, 215, 196)          784       \n",
      "_________________________________________________________________\n",
      "activation_3 (Activation)    (None, 215, 196)          0         \n",
      "_________________________________________________________________\n",
      "dropout_9 (Dropout)          (None, 215, 196)          0         \n",
      "_________________________________________________________________\n",
      "gru_5 (GRU)                  (None, 215, 128)          124800    \n",
      "_________________________________________________________________\n",
      "dropout_10 (Dropout)         (None, 215, 128)          0         \n",
      "_________________________________________________________________\n",
      "batch_normalization_8 (Batch (None, 215, 128)          512       \n",
      "_________________________________________________________________\n",
      "gru_6 (GRU)                  (None, 215, 128)          98688     \n",
      "_________________________________________________________________\n",
      "dropout_11 (Dropout)         (None, 215, 128)          0         \n",
      "_________________________________________________________________\n",
      "batch_normalization_9 (Batch (None, 215, 128)          512       \n",
      "_________________________________________________________________\n",
      "dropout_12 (Dropout)         (None, 215, 128)          0         \n",
      "_________________________________________________________________\n",
      "time_distributed_3 (TimeDist (None, 215, 1)            129       \n",
      "=================================================================\n",
      "Total params: 394,181\n",
      "Trainable params: 393,277\n",
      "Non-trainable params: 904\n",
      "_________________________________________________________________\n"
     ]
    }
   ],
   "source": [
    "model.summary()"
   ]
  },
  {
   "cell_type": "code",
   "execution_count": null,
   "metadata": {},
   "outputs": [
    {
     "name": "stdout",
     "output_type": "stream",
     "text": [
      "Train on 1000 samples, validate on 400 samples\n",
      "Epoch 1/1\n",
      " 170/1000 [====>.........................] - ETA: 46s - loss: 0.0243 - acc: 0.9985 - f1_score: 0.0000e+00"
     ]
    }
   ],
   "source": [
    "model.fit(X, y, batch_size = 10, epochs=1, validation_data = (X_val, y_val))"
   ]
  },
  {
   "cell_type": "code",
   "execution_count": 127,
   "metadata": {},
   "outputs": [
    {
     "name": "stdout",
     "output_type": "stream",
     "text": [
      "(400, 2160, 43) (400, 215, 1)\n"
     ]
    }
   ],
   "source": [
    "X_val = X_test[:,:,:-1]\n",
    "y_val = X_test[:,:-10:10,-1:]\n",
    "print(X_val.shape, y_val.shape)"
   ]
  },
  {
   "cell_type": "code",
   "execution_count": 130,
   "metadata": {},
   "outputs": [
    {
     "data": {
      "text/plain": [
       "(1000, 215, 1)"
      ]
     },
     "execution_count": 130,
     "metadata": {},
     "output_type": "execute_result"
    }
   ],
   "source": [
    "y_pred = model.predict(X)\n",
    "y_pred.shape"
   ]
  },
  {
   "cell_type": "code",
   "execution_count": 121,
   "metadata": {},
   "outputs": [
    {
     "name": "stdout",
     "output_type": "stream",
     "text": [
      "0.0\n"
     ]
    },
    {
     "name": "stderr",
     "output_type": "stream",
     "text": [
      "/home/root_shannon/.local/lib/python3.6/site-packages/sklearn/metrics/classification.py:1135: UndefinedMetricWarning: F-score is ill-defined and being set to 0.0 due to no predicted samples.\n",
      "  'precision', 'predicted', average, warn_for)\n"
     ]
    }
   ],
   "source": [
    "from sklearn.metrics import f1_score\n",
    "print(f1_score(y_val, y_pred))\n"
   ]
  },
  {
   "cell_type": "code",
   "execution_count": 120,
   "metadata": {},
   "outputs": [
    {
     "name": "stdout",
     "output_type": "stream",
     "text": [
      "[0. 0. 0. ... 0. 0. 0.] [0. 0. 0. ... 0. 0. 0.]\n"
     ]
    }
   ],
   "source": [
    "print(y_val, y_pred)"
   ]
  },
  {
   "cell_type": "code",
   "execution_count": 132,
   "metadata": {},
   "outputs": [
    {
     "data": {
      "text/plain": [
       "array([6.951381e-12], dtype=float32)"
      ]
     },
     "execution_count": 132,
     "metadata": {},
     "output_type": "execute_result"
    }
   ],
   "source": [
    "sum(sum(y_pred))"
   ]
  },
  {
   "cell_type": "code",
   "execution_count": null,
   "metadata": {},
   "outputs": [],
   "source": []
  }
 ],
 "metadata": {
  "kernelspec": {
   "display_name": "Python 3",
   "language": "python",
   "name": "python3"
  },
  "language_info": {
   "codemirror_mode": {
    "name": "ipython",
    "version": 3
   },
   "file_extension": ".py",
   "mimetype": "text/x-python",
   "name": "python",
   "nbconvert_exporter": "python",
   "pygments_lexer": "ipython3",
   "version": "3.6.3"
  }
 },
 "nbformat": 4,
 "nbformat_minor": 2
}
