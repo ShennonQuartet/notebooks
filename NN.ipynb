{
 "cells": [
  {
   "cell_type": "code",
   "execution_count": 1,
   "metadata": {},
   "outputs": [],
   "source": [
    "import pandas as pd\n",
    "import numpy as np\n",
    "import random\n",
    "import matplotlib.pyplot as plt\n",
    "import seaborn as sns\n",
    "%matplotlib inline"
   ]
  },
  {
   "cell_type": "code",
   "execution_count": 2,
   "metadata": {},
   "outputs": [],
   "source": [
    "df = pd.read_csv('data/task1/dataset.csv', encoding='cp1251')"
   ]
  },
  {
   "cell_type": "code",
   "execution_count": 3,
   "metadata": {},
   "outputs": [],
   "source": [
    "stops = pd.read_csv('data/task1/stops.csv')"
   ]
  },
  {
   "cell_type": "code",
   "execution_count": 4,
   "metadata": {},
   "outputs": [],
   "source": [
    "pd.set_option('display.max_colwidth', 200)"
   ]
  },
  {
   "cell_type": "code",
   "execution_count": 5,
   "metadata": {},
   "outputs": [],
   "source": [
    "df.date = pd.to_datetime(df.date, infer_datetime_format=True)"
   ]
  },
  {
   "cell_type": "code",
   "execution_count": 6,
   "metadata": {},
   "outputs": [],
   "source": [
    "stops.date = pd.to_datetime(stops.date, dayfirst=True)"
   ]
  },
  {
   "cell_type": "code",
   "execution_count": 7,
   "metadata": {},
   "outputs": [],
   "source": [
    "df.iloc[:,1:20] = (df.iloc[:,1:20] - df.iloc[:,1:20].mean()) / (df.iloc[:,1:20].max() - df.iloc[:,1:20].min())"
   ]
  },
  {
   "cell_type": "code",
   "execution_count": 8,
   "metadata": {},
   "outputs": [],
   "source": [
    "df.iloc[:,20:] = (df.iloc[:,20:] - df.iloc[:,20:].mean()) / (df.iloc[:,20:].max() - df.iloc[:,20:].min())"
   ]
  },
  {
   "cell_type": "code",
   "execution_count": 9,
   "metadata": {},
   "outputs": [],
   "source": [
    "df = df.merge(stops, left_on='date', right_on='date', how='outer')"
   ]
  },
  {
   "cell_type": "code",
   "execution_count": 10,
   "metadata": {},
   "outputs": [],
   "source": [
    "df['type'].replace(['vibrosito', 'stop'], 1, inplace=True)\n",
    "df['type'].fillna(method='backfill', limit=360, inplace=True)\n",
    "df.fillna(0, inplace=True)"
   ]
  },
  {
   "cell_type": "code",
   "execution_count": 11,
   "metadata": {},
   "outputs": [],
   "source": [
    "df = df.rename(index=str, columns={\"type\": \"target\"})"
   ]
  },
  {
   "cell_type": "code",
   "execution_count": 12,
   "metadata": {},
   "outputs": [],
   "source": [
    "n = df[df.date > pd.Timestamp('2018-01-01 00:00:00')].count()[0]\n",
    "df.drop(df.index[-n:], inplace=True)"
   ]
  },
  {
   "cell_type": "code",
   "execution_count": 13,
   "metadata": {},
   "outputs": [
    {
     "name": "stderr",
     "output_type": "stream",
     "text": [
      "/home/root_shannon/.local/lib/python3.6/site-packages/h5py/__init__.py:36: FutureWarning: Conversion of the second argument of issubdtype from `float` to `np.floating` is deprecated. In future, it will be treated as `np.float64 == np.dtype(float).type`.\n",
      "  from ._conv import register_converters as _register_converters\n",
      "Using TensorFlow backend.\n"
     ]
    }
   ],
   "source": [
    "from keras.callbacks import ModelCheckpoint\n",
    "from keras.models import Model, load_model, Sequential\n",
    "from keras.layers import Dense, Activation, Dropout, Input, Masking, TimeDistributed, LSTM, Conv1D\n",
    "from keras.layers import GRU, Bidirectional, BatchNormalization, Reshape\n",
    "from keras.layers.advanced_activations import LeakyReLU\n",
    "from keras.optimizers import Adam\n",
    "from keras import backend as K"
   ]
  },
  {
   "cell_type": "code",
   "execution_count": 14,
   "metadata": {},
   "outputs": [],
   "source": [
    "def f1_score(true, pred):\n",
    "    p = precision(true, pred)\n",
    "    r = recall(true, pred)\n",
    "    return 2 * (p * r) / (p + r + 1e-6)\n",
    "\n",
    "def recall(y_true, y_pred):\n",
    "    true_positives = K.sum(K.round(K.clip(y_true * y_pred, 0, 1)))\n",
    "    possible_positives = K.sum(K.round(K.clip(y_true, 0, 1)))\n",
    "    recall = true_positives / (possible_positives + K.epsilon())\n",
    "    return recall\n",
    "\n",
    "def precision(y_true, y_pred):\n",
    "    true_positives = K.sum(K.round(K.clip(y_true * y_pred, 0, 1)))\n",
    "    predicted_positives = K.sum(K.round(K.clip(y_pred, 0, 1)))\n",
    "    precision = true_positives / (predicted_positives + K.epsilon())\n",
    "    return precision"
   ]
  },
  {
   "cell_type": "code",
   "execution_count": 32,
   "metadata": {},
   "outputs": [],
   "source": [
    "def get_model(input_shape):\n",
    "    \n",
    "    X_input = Input(shape = input_shape)\n",
    "    \n",
    "    X = Conv1D(196, kernel_size=20, strides=10)(X_input)                           \n",
    "    X = BatchNormalization()(X)                                \n",
    "    X = Activation('tanh')(X)                                 \n",
    "    X = Dropout(0.8)(X)                                 \n",
    "\n",
    "  #  X = GRU(units = 128, return_sequences = True)(X) \n",
    " #   X = Dropout(0.8)(X)                              \n",
    "#    X = BatchNormalization()(X)                      \n",
    "    \n",
    "    X = LSTM(units = 128, return_sequences = True)(X) \n",
    "    X = Dropout(0.8)(X)                              \n",
    "    X = BatchNormalization()(X)                      \n",
    "    X = Dropout(0.8)(X)                              \n",
    "    \n",
    "    X = TimeDistributed(Dense(1, activation = \"sigmoid\"))(X) \n",
    "\n",
    "    model = Model(inputs = X_input, outputs = X)\n",
    "    \n",
    "    return model"
   ]
  },
  {
   "cell_type": "code",
   "execution_count": 16,
   "metadata": {},
   "outputs": [],
   "source": [
    "sample = df.count()[0]\n",
    "seq_len = 1000"
   ]
  },
  {
   "cell_type": "code",
   "execution_count": 17,
   "metadata": {},
   "outputs": [],
   "source": [
    "X_0_train = []\n",
    "while len(X_0_train) < 500:\n",
    "    n = random.randint(seq_len, sample*3//4)\n",
    "    X_0_train.append(df.iloc[n-seq_len:n, 1:].values)"
   ]
  },
  {
   "cell_type": "code",
   "execution_count": 18,
   "metadata": {},
   "outputs": [],
   "source": [
    "indices_with_ones = df[df['target'] == 1].index.tolist()\n",
    "indices_with_ones_train = indices_with_ones[:len(indices_with_ones)*3//4]\n",
    "X_1_train = []\n",
    "while len(X_1_train) < 500:\n",
    "    i = int(random.choice(indices_with_ones))\n",
    "    corr = random.randint(0, seq_len//2)\n",
    "    X_1_train.append(df.iloc[i+corr-seq_len:i+corr, 1:].values)"
   ]
  },
  {
   "cell_type": "code",
   "execution_count": 19,
   "metadata": {},
   "outputs": [],
   "source": [
    "X_0_test = []\n",
    "while len(X_0_test) < 200:\n",
    "    n = random.randint(sample*3//4, sample)\n",
    "    X_0_test.append(df.iloc[n-seq_len:n, 1:].values)"
   ]
  },
  {
   "cell_type": "code",
   "execution_count": 20,
   "metadata": {},
   "outputs": [],
   "source": [
    "indices_with_ones_test = indices_with_ones[len(indices_with_ones)*3//4:]\n",
    "X_1_test = []\n",
    "while len(X_1_test) < 200:\n",
    "    i = int(random.choice(indices_with_ones))\n",
    "    corr = random.randint(0, seq_len//2)\n",
    "    X_1_test.append(df.iloc[i+corr-seq_len:i+corr, 1:].values)"
   ]
  },
  {
   "cell_type": "code",
   "execution_count": 21,
   "metadata": {},
   "outputs": [],
   "source": [
    "X_train = X_0_train + X_1_train\n",
    "X_test = X_0_test + X_1_test\n",
    "X_train = np.array(X_train)\n",
    "X_test = np.array(X_test)\n",
    "np.random.shuffle(X_train)\n",
    "np.random.shuffle(X_test)"
   ]
  },
  {
   "cell_type": "code",
   "execution_count": 22,
   "metadata": {},
   "outputs": [
    {
     "name": "stdout",
     "output_type": "stream",
     "text": [
      "(1000, 1000, 43) (1000, 99, 1)\n"
     ]
    }
   ],
   "source": [
    "X = X_train[:,:,:-1]\n",
    "y = X_train[:,:-10:10,-1:].astype(int)\n",
    "print(X.shape, y.shape)"
   ]
  },
  {
   "cell_type": "code",
   "execution_count": 33,
   "metadata": {},
   "outputs": [],
   "source": [
    "model = get_model(input_shape = (seq_len, 43))"
   ]
  },
  {
   "cell_type": "code",
   "execution_count": 34,
   "metadata": {},
   "outputs": [],
   "source": [
    "opt = Adam(lr=0.1, beta_1=0.9, beta_2=0.999, decay=0.01)\n",
    "model.compile(loss='binary_crossentropy', optimizer=opt, metrics=[\"accuracy\", f1_score])"
   ]
  },
  {
   "cell_type": "code",
   "execution_count": 25,
   "metadata": {},
   "outputs": [
    {
     "name": "stdout",
     "output_type": "stream",
     "text": [
      "_________________________________________________________________\n",
      "Layer (type)                 Output Shape              Param #   \n",
      "=================================================================\n",
      "input_1 (InputLayer)         (None, 1000, 43)          0         \n",
      "_________________________________________________________________\n",
      "conv1d_1 (Conv1D)            (None, 99, 196)           168756    \n",
      "_________________________________________________________________\n",
      "batch_normalization_1 (Batch (None, 99, 196)           784       \n",
      "_________________________________________________________________\n",
      "activation_1 (Activation)    (None, 99, 196)           0         \n",
      "_________________________________________________________________\n",
      "dropout_1 (Dropout)          (None, 99, 196)           0         \n",
      "_________________________________________________________________\n",
      "gru_1 (GRU)                  (None, 99, 128)           124800    \n",
      "_________________________________________________________________\n",
      "dropout_2 (Dropout)          (None, 99, 128)           0         \n",
      "_________________________________________________________________\n",
      "batch_normalization_2 (Batch (None, 99, 128)           512       \n",
      "_________________________________________________________________\n",
      "gru_2 (GRU)                  (None, 99, 128)           98688     \n",
      "_________________________________________________________________\n",
      "dropout_3 (Dropout)          (None, 99, 128)           0         \n",
      "_________________________________________________________________\n",
      "batch_normalization_3 (Batch (None, 99, 128)           512       \n",
      "_________________________________________________________________\n",
      "dropout_4 (Dropout)          (None, 99, 128)           0         \n",
      "_________________________________________________________________\n",
      "time_distributed_1 (TimeDist (None, 99, 1)             129       \n",
      "=================================================================\n",
      "Total params: 394,181\n",
      "Trainable params: 393,277\n",
      "Non-trainable params: 904\n",
      "_________________________________________________________________\n"
     ]
    }
   ],
   "source": [
    "model.summary()"
   ]
  },
  {
   "cell_type": "code",
   "execution_count": 26,
   "metadata": {},
   "outputs": [
    {
     "name": "stdout",
     "output_type": "stream",
     "text": [
      "(400, 1000, 43) (400, 99, 1)\n"
     ]
    }
   ],
   "source": [
    "X_val = X_test[:,:,:-1]\n",
    "y_val = X_test[:,:-10:10,-1:]\n",
    "print(X_val.shape, y_val.shape)"
   ]
  },
  {
   "cell_type": "code",
   "execution_count": 35,
   "metadata": {
    "scrolled": false
   },
   "outputs": [
    {
     "name": "stdout",
     "output_type": "stream",
     "text": [
      "Train on 1000 samples, validate on 400 samples\n",
      "Epoch 1/50\n",
      "1000/1000 [==============================] - 13s 13ms/step - loss: 0.5049 - acc: 0.8047 - f1_score: 0.0654 - val_loss: 0.3920 - val_acc: 0.8322 - val_f1_score: 0.0000e+00\n",
      "Epoch 2/50\n",
      "1000/1000 [==============================] - 12s 12ms/step - loss: 0.4101 - acc: 0.8289 - f1_score: 0.0264 - val_loss: 0.3899 - val_acc: 0.8322 - val_f1_score: 0.0000e+00\n",
      "Epoch 3/50\n",
      "1000/1000 [==============================] - 12s 12ms/step - loss: 0.4028 - acc: 0.8295 - f1_score: 0.0232 - val_loss: 0.3790 - val_acc: 0.8322 - val_f1_score: 0.0000e+00\n",
      "Epoch 4/50\n",
      "1000/1000 [==============================] - 12s 12ms/step - loss: 0.3949 - acc: 0.8305 - f1_score: 0.0274 - val_loss: 0.3764 - val_acc: 0.8322 - val_f1_score: 0.0000e+00\n",
      "Epoch 5/50\n",
      "1000/1000 [==============================] - 12s 12ms/step - loss: 0.3953 - acc: 0.8305 - f1_score: 0.0246 - val_loss: 0.3788 - val_acc: 0.8322 - val_f1_score: 0.0000e+00\n",
      "Epoch 6/50\n",
      "1000/1000 [==============================] - 12s 12ms/step - loss: 0.3903 - acc: 0.8308 - f1_score: 0.0276 - val_loss: 0.3780 - val_acc: 0.8322 - val_f1_score: 0.0000e+00\n",
      "Epoch 7/50\n",
      "1000/1000 [==============================] - 12s 12ms/step - loss: 0.3842 - acc: 0.8299 - f1_score: 0.0419 - val_loss: 0.3779 - val_acc: 0.8322 - val_f1_score: 0.0000e+00\n",
      "Epoch 8/50\n",
      "1000/1000 [==============================] - 12s 12ms/step - loss: 0.3858 - acc: 0.8308 - f1_score: 0.0472 - val_loss: 0.3822 - val_acc: 0.8322 - val_f1_score: 0.0000e+00\n",
      "Epoch 9/50\n",
      "1000/1000 [==============================] - 12s 12ms/step - loss: 0.3789 - acc: 0.8315 - f1_score: 0.0656 - val_loss: 0.3769 - val_acc: 0.8322 - val_f1_score: 0.0000e+00\n",
      "Epoch 10/50\n",
      "1000/1000 [==============================] - 12s 12ms/step - loss: 0.3867 - acc: 0.8311 - f1_score: 0.0902 - val_loss: 0.3890 - val_acc: 0.8322 - val_f1_score: 0.0000e+00\n",
      "Epoch 11/50\n",
      "1000/1000 [==============================] - 12s 12ms/step - loss: 0.3726 - acc: 0.8300 - f1_score: 0.0957 - val_loss: 0.3766 - val_acc: 0.8322 - val_f1_score: 0.0000e+00\n",
      "Epoch 12/50\n",
      "1000/1000 [==============================] - 12s 12ms/step - loss: 0.3742 - acc: 0.8296 - f1_score: 0.1230 - val_loss: 0.4004 - val_acc: 0.8322 - val_f1_score: 0.0000e+00\n",
      "Epoch 13/50\n",
      "1000/1000 [==============================] - 12s 12ms/step - loss: 0.3729 - acc: 0.8307 - f1_score: 0.1414 - val_loss: 0.3812 - val_acc: 0.8322 - val_f1_score: 0.0000e+00\n",
      "Epoch 14/50\n",
      "1000/1000 [==============================] - 12s 12ms/step - loss: 0.3712 - acc: 0.8312 - f1_score: 0.1395 - val_loss: 0.3915 - val_acc: 0.8322 - val_f1_score: 0.0000e+00\n",
      "Epoch 15/50\n",
      "1000/1000 [==============================] - 12s 12ms/step - loss: 0.3652 - acc: 0.8311 - f1_score: 0.1582 - val_loss: 0.3888 - val_acc: 0.8322 - val_f1_score: 0.0000e+00\n",
      "Epoch 16/50\n",
      "1000/1000 [==============================] - 12s 12ms/step - loss: 0.3559 - acc: 0.8303 - f1_score: 0.1786 - val_loss: 0.4111 - val_acc: 0.8322 - val_f1_score: 0.0000e+00\n",
      "Epoch 17/50\n",
      "1000/1000 [==============================] - 12s 12ms/step - loss: 0.3590 - acc: 0.8316 - f1_score: 0.2010 - val_loss: 0.4297 - val_acc: 0.8322 - val_f1_score: 0.0000e+00\n",
      "Epoch 18/50\n",
      "1000/1000 [==============================] - 12s 12ms/step - loss: 0.3550 - acc: 0.8348 - f1_score: 0.2318 - val_loss: 0.4055 - val_acc: 0.8322 - val_f1_score: 0.0000e+00\n",
      "Epoch 19/50\n",
      "1000/1000 [==============================] - 13s 13ms/step - loss: 0.3596 - acc: 0.8298 - f1_score: 0.1920 - val_loss: 0.4335 - val_acc: 0.8322 - val_f1_score: 0.0000e+00\n",
      "Epoch 20/50\n",
      "1000/1000 [==============================] - 12s 12ms/step - loss: 0.3571 - acc: 0.8300 - f1_score: 0.1869 - val_loss: 0.4251 - val_acc: 0.8322 - val_f1_score: 0.0000e+00\n",
      "Epoch 21/50\n",
      "1000/1000 [==============================] - 12s 12ms/step - loss: 0.3542 - acc: 0.8311 - f1_score: 0.2188 - val_loss: 0.4388 - val_acc: 0.8322 - val_f1_score: 0.0000e+00\n",
      "Epoch 22/50\n",
      "1000/1000 [==============================] - 12s 12ms/step - loss: 0.3569 - acc: 0.8326 - f1_score: 0.2152 - val_loss: 0.4287 - val_acc: 0.8322 - val_f1_score: 0.0000e+00\n",
      "Epoch 23/50\n",
      "1000/1000 [==============================] - 12s 12ms/step - loss: 0.3541 - acc: 0.8312 - f1_score: 0.2112 - val_loss: 0.4539 - val_acc: 0.8322 - val_f1_score: 0.0000e+00\n",
      "Epoch 24/50\n",
      "1000/1000 [==============================] - 12s 12ms/step - loss: 0.3515 - acc: 0.8329 - f1_score: 0.2127 - val_loss: 0.4316 - val_acc: 0.8322 - val_f1_score: 0.0000e+00\n",
      "Epoch 25/50\n",
      "1000/1000 [==============================] - 12s 12ms/step - loss: 0.3578 - acc: 0.8333 - f1_score: 0.2446 - val_loss: 0.4338 - val_acc: 0.8322 - val_f1_score: 0.0000e+00\n",
      "Epoch 26/50\n",
      "1000/1000 [==============================] - 12s 12ms/step - loss: 0.3491 - acc: 0.8293 - f1_score: 0.1945 - val_loss: 0.4686 - val_acc: 0.8322 - val_f1_score: 0.0000e+00\n",
      "Epoch 27/50\n",
      "1000/1000 [==============================] - 12s 12ms/step - loss: 0.3470 - acc: 0.8295 - f1_score: 0.1908 - val_loss: 0.4624 - val_acc: 0.8322 - val_f1_score: 0.0000e+00\n",
      "Epoch 28/50\n",
      "1000/1000 [==============================] - 12s 12ms/step - loss: 0.3430 - acc: 0.8329 - f1_score: 0.2280 - val_loss: 0.4774 - val_acc: 0.8322 - val_f1_score: 0.0000e+00\n",
      "Epoch 29/50\n",
      "1000/1000 [==============================] - 12s 12ms/step - loss: 0.3400 - acc: 0.8404 - f1_score: 0.3143 - val_loss: 0.4070 - val_acc: 0.8322 - val_f1_score: 0.0000e+00\n",
      "Epoch 30/50\n",
      "1000/1000 [==============================] - 12s 12ms/step - loss: 0.3442 - acc: 0.8349 - f1_score: 0.2678 - val_loss: 0.4260 - val_acc: 0.8322 - val_f1_score: 0.0000e+00\n",
      "Epoch 31/50\n",
      "1000/1000 [==============================] - 12s 12ms/step - loss: 0.3444 - acc: 0.8413 - f1_score: 0.3009 - val_loss: 0.4192 - val_acc: 0.8322 - val_f1_score: 0.0000e+00\n",
      "Epoch 32/50\n",
      "1000/1000 [==============================] - 12s 12ms/step - loss: 0.3407 - acc: 0.8367 - f1_score: 0.2907 - val_loss: 0.4446 - val_acc: 0.8322 - val_f1_score: 0.0000e+00\n",
      "Epoch 33/50\n",
      "1000/1000 [==============================] - 12s 12ms/step - loss: 0.3406 - acc: 0.8352 - f1_score: 0.2800 - val_loss: 0.4450 - val_acc: 0.8322 - val_f1_score: 0.0000e+00\n",
      "Epoch 34/50\n",
      "1000/1000 [==============================] - 12s 12ms/step - loss: 0.3437 - acc: 0.8366 - f1_score: 0.2757 - val_loss: 0.4246 - val_acc: 0.8322 - val_f1_score: 0.0000e+00\n",
      "Epoch 35/50\n",
      "1000/1000 [==============================] - 12s 12ms/step - loss: 0.3416 - acc: 0.8367 - f1_score: 0.2841 - val_loss: 0.4595 - val_acc: 0.8322 - val_f1_score: 0.0000e+00\n",
      "Epoch 36/50\n",
      "1000/1000 [==============================] - 12s 12ms/step - loss: 0.3421 - acc: 0.8362 - f1_score: 0.2803 - val_loss: 0.4512 - val_acc: 0.8322 - val_f1_score: 0.0000e+00\n",
      "Epoch 37/50\n",
      "1000/1000 [==============================] - 12s 12ms/step - loss: 0.3414 - acc: 0.8332 - f1_score: 0.2780 - val_loss: 0.4672 - val_acc: 0.8322 - val_f1_score: 0.0000e+00\n",
      "Epoch 38/50\n",
      "1000/1000 [==============================] - 12s 12ms/step - loss: 0.3414 - acc: 0.8367 - f1_score: 0.2726 - val_loss: 0.4601 - val_acc: 0.8322 - val_f1_score: 0.0000e+00\n",
      "Epoch 39/50\n",
      "1000/1000 [==============================] - 12s 12ms/step - loss: 0.3394 - acc: 0.8327 - f1_score: 0.2561 - val_loss: 0.4716 - val_acc: 0.8322 - val_f1_score: 0.0000e+00\n",
      "Epoch 40/50\n",
      "1000/1000 [==============================] - 12s 12ms/step - loss: 0.3386 - acc: 0.8373 - f1_score: 0.2884 - val_loss: 0.4759 - val_acc: 0.8322 - val_f1_score: 0.0000e+00\n",
      "Epoch 41/50\n",
      "1000/1000 [==============================] - 12s 12ms/step - loss: 0.3430 - acc: 0.8387 - f1_score: 0.3043 - val_loss: 0.4553 - val_acc: 0.8322 - val_f1_score: 0.0000e+00\n",
      "Epoch 42/50\n",
      "1000/1000 [==============================] - 12s 12ms/step - loss: 0.3397 - acc: 0.8368 - f1_score: 0.2773 - val_loss: 0.4627 - val_acc: 0.8322 - val_f1_score: 0.0000e+00\n",
      "Epoch 43/50\n",
      "1000/1000 [==============================] - 12s 12ms/step - loss: 0.3396 - acc: 0.8378 - f1_score: 0.2954 - val_loss: 0.4741 - val_acc: 0.8322 - val_f1_score: 0.0000e+00\n",
      "Epoch 44/50\n",
      "1000/1000 [==============================] - 12s 12ms/step - loss: 0.3382 - acc: 0.8339 - f1_score: 0.2753 - val_loss: 0.4816 - val_acc: 0.8322 - val_f1_score: 0.0000e+00\n",
      "Epoch 45/50\n"
     ]
    },
    {
     "name": "stdout",
     "output_type": "stream",
     "text": [
      "1000/1000 [==============================] - 12s 12ms/step - loss: 0.3338 - acc: 0.8374 - f1_score: 0.3003 - val_loss: 0.4866 - val_acc: 0.8322 - val_f1_score: 0.0000e+00\n",
      "Epoch 46/50\n",
      "1000/1000 [==============================] - 12s 12ms/step - loss: 0.3378 - acc: 0.8378 - f1_score: 0.3027 - val_loss: 0.4829 - val_acc: 0.8322 - val_f1_score: 0.0000e+00\n",
      "Epoch 47/50\n",
      "1000/1000 [==============================] - 12s 12ms/step - loss: 0.3339 - acc: 0.8418 - f1_score: 0.3248 - val_loss: 0.4653 - val_acc: 0.8322 - val_f1_score: 0.0000e+00\n",
      "Epoch 48/50\n",
      "1000/1000 [==============================] - 12s 12ms/step - loss: 0.3343 - acc: 0.8378 - f1_score: 0.3139 - val_loss: 0.4841 - val_acc: 0.8322 - val_f1_score: 0.0000e+00\n",
      "Epoch 49/50\n",
      "1000/1000 [==============================] - 12s 12ms/step - loss: 0.3294 - acc: 0.8385 - f1_score: 0.3039 - val_loss: 0.5129 - val_acc: 0.8322 - val_f1_score: 0.0000e+00\n",
      "Epoch 50/50\n",
      "1000/1000 [==============================] - 12s 12ms/step - loss: 0.3314 - acc: 0.8429 - f1_score: 0.3401 - val_loss: 0.4895 - val_acc: 0.8322 - val_f1_score: 0.0000e+00\n"
     ]
    },
    {
     "data": {
      "text/plain": [
       "<keras.callbacks.History at 0x7f29e01895c0>"
      ]
     },
     "execution_count": 35,
     "metadata": {},
     "output_type": "execute_result"
    }
   ],
   "source": [
    "model.fit(X, y, batch_size = 10, epochs=50, validation_data = (X_val, y_val))"
   ]
  },
  {
   "cell_type": "code",
   "execution_count": 36,
   "metadata": {},
   "outputs": [
    {
     "data": {
      "text/plain": [
       "(400, 99, 1)"
      ]
     },
     "execution_count": 36,
     "metadata": {},
     "output_type": "execute_result"
    }
   ],
   "source": [
    "y_pred = model.predict(X_val)\n",
    "y_pred.shape"
   ]
  },
  {
   "cell_type": "code",
   "execution_count": 37,
   "metadata": {
    "scrolled": true
   },
   "outputs": [],
   "source": [
    "y_val = y_val.reshape(400*99).astype(int).tolist()"
   ]
  },
  {
   "cell_type": "code",
   "execution_count": 50,
   "metadata": {},
   "outputs": [],
   "source": [
    "y_pred = (model.predict(X_val).reshape(400*99) > 0.05)"
   ]
  },
  {
   "cell_type": "code",
   "execution_count": 51,
   "metadata": {},
   "outputs": [
    {
     "name": "stdout",
     "output_type": "stream",
     "text": [
      "[[14488    44]\n",
      " [18466  6602]]\n",
      "0.41634609320804694\n"
     ]
    }
   ],
   "source": [
    "from sklearn.metrics import confusion_matrix, f1_score\n",
    "print(confusion_matrix(y_pred, y_val))\n",
    "print(f1_score(y_val, y_pred))"
   ]
  },
  {
   "cell_type": "code",
   "execution_count": null,
   "metadata": {},
   "outputs": [],
   "source": [
    "sum(sum(y_val))"
   ]
  },
  {
   "cell_type": "code",
   "execution_count": null,
   "metadata": {},
   "outputs": [],
   "source": []
  }
 ],
 "metadata": {
  "kernelspec": {
   "display_name": "Python 3",
   "language": "python",
   "name": "python3"
  },
  "language_info": {
   "codemirror_mode": {
    "name": "ipython",
    "version": 3
   },
   "file_extension": ".py",
   "mimetype": "text/x-python",
   "name": "python",
   "nbconvert_exporter": "python",
   "pygments_lexer": "ipython3",
   "version": "3.6.3"
  }
 },
 "nbformat": 4,
 "nbformat_minor": 2
}
