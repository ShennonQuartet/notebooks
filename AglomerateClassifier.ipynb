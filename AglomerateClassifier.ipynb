{
 "cells": [
  {
   "cell_type": "code",
   "execution_count": 23,
   "metadata": {},
   "outputs": [],
   "source": [
    "from keras.models import Sequential\n",
    "from keras.layers import Conv2D, MaxPooling2D\n",
    "from keras.layers import Activation, Dropout, Flatten, Dense\n",
    "from keras import backend as K\n",
    "from keras.preprocessing.image import ImageDataGenerator\n",
    "from keras.models import model_from_json\n"
   ]
  },
  {
   "cell_type": "code",
   "execution_count": 14,
   "metadata": {},
   "outputs": [],
   "source": [
    "train_data_dir = 'data/task1/train'\n",
    "validation_data_dir = 'data/task1/validation'\n",
    "nb_train_samples = 2000\n",
    "nb_validation_samples = 800\n",
    "epochs = 20\n",
    "batch_size = 16\n",
    "img_width, img_height = 150,150"
   ]
  },
  {
   "cell_type": "code",
   "execution_count": 15,
   "metadata": {},
   "outputs": [],
   "source": [
    "def simple_model():\n",
    "    model = Sequential()\n",
    "    model.add(Conv2D(32, (3, 3), input_shape=(150, 150, 3)))\n",
    "    model.add(Activation('relu'))\n",
    "    model.add(MaxPooling2D(pool_size=(2, 2)))\n",
    "\n",
    "    model.add(Conv2D(32, (3, 3)))\n",
    "    model.add(Activation('relu'))\n",
    "    model.add(MaxPooling2D(pool_size=(2, 2)))\n",
    "\n",
    "    model.add(Conv2D(64, (3, 3)))\n",
    "    model.add(Activation('relu'))\n",
    "    model.add(MaxPooling2D(pool_size=(2, 2)))\n",
    "\n",
    "    model.add(Flatten())  # this converts our 3D feature maps to 1D feature vectors\n",
    "    model.add(Dense(64))\n",
    "    model.add(Activation('relu'))\n",
    "    model.add(Dropout(0.5))\n",
    "    model.add(Dense(1))\n",
    "    model.add(Activation('sigmoid'))\n",
    "\n",
    "    model.compile(loss='binary_crossentropy',\n",
    "                  optimizer='rmsprop',\n",
    "                  metrics=['accuracy', precision, recall, f1_score])\n",
    "    return model\n"
   ]
  },
  {
   "cell_type": "code",
   "execution_count": 11,
   "metadata": {},
   "outputs": [],
   "source": [
    "model = simple_model()"
   ]
  },
  {
   "cell_type": "code",
   "execution_count": 13,
   "metadata": {},
   "outputs": [],
   "source": [
    "# this is the augmentation configuration we will use for training\n",
    "train_datagen = ImageDataGenerator(\n",
    "    rescale=1. / 255,\n",
    "    shear_range=0.2,\n",
    "    zoom_range=0.2,\n",
    "    horizontal_flip=True)"
   ]
  },
  {
   "cell_type": "code",
   "execution_count": 6,
   "metadata": {},
   "outputs": [],
   "source": [
    "\n",
    "# this is the augmentation configuration we will use for testing:\n",
    "# only rescaling\n",
    "test_datagen = ImageDataGenerator(rescale=1. / 255)"
   ]
  },
  {
   "cell_type": "code",
   "execution_count": 7,
   "metadata": {},
   "outputs": [
    {
     "name": "stdout",
     "output_type": "stream",
     "text": [
      "Found 277 images belonging to 2 classes.\n"
     ]
    }
   ],
   "source": [
    "\n",
    "train_generator = train_datagen.flow_from_directory(\n",
    "    train_data_dir,\n",
    "    target_size=(img_width, img_height),\n",
    "    batch_size=batch_size,\n",
    "    class_mode='binary')\n"
   ]
  },
  {
   "cell_type": "code",
   "execution_count": 8,
   "metadata": {},
   "outputs": [
    {
     "name": "stdout",
     "output_type": "stream",
     "text": [
      "Found 32 images belonging to 2 classes.\n"
     ]
    }
   ],
   "source": [
    "\n",
    "validation_generator = test_datagen.flow_from_directory(\n",
    "    validation_data_dir,\n",
    "    target_size=(img_width, img_height),\n",
    "    batch_size=batch_size,\n",
    "    class_mode='binary')"
   ]
  },
  {
   "cell_type": "code",
   "execution_count": 9,
   "metadata": {},
   "outputs": [],
   "source": [
    "def f1_score(true, pred):\n",
    "    p = precision(true, pred)\n",
    "    r = recall(true, pred)\n",
    "    return 2 * (p * r) / (p + r + 1e-6)\n",
    "\n",
    "def recall(y_true, y_pred):\n",
    "    true_positives = K.sum(K.round(K.clip(y_true * y_pred, 0, 1)))\n",
    "    possible_positives = K.sum(K.round(K.clip(y_true, 0, 1)))\n",
    "    recall = true_positives / (possible_positives + K.epsilon())\n",
    "    return recall\n",
    "\n",
    "def precision(y_true, y_pred):\n",
    "    true_positives = K.sum(K.round(K.clip(y_true * y_pred, 0, 1)))\n",
    "    predicted_positives = K.sum(K.round(K.clip(y_pred, 0, 1)))\n",
    "    precision = true_positives / (predicted_positives + K.epsilon())\n",
    "    return precision"
   ]
  },
  {
   "cell_type": "code",
   "execution_count": 16,
   "metadata": {},
   "outputs": [
    {
     "name": "stdout",
     "output_type": "stream",
     "text": [
      "Epoch 1/20\n",
      "125/125 [==============================] - 43s 346ms/step - loss: 0.1089 - acc: 0.9599 - precision: 0.9667 - recall: 0.9846 - f1_score: 0.9745 - val_loss: 0.5479 - val_acc: 0.8438 - val_precision: 0.8842 - val_recall: 0.9198 - val_f1_score: 0.9006\n",
      "Epoch 2/20\n",
      "125/125 [==============================] - 45s 359ms/step - loss: 0.1174 - acc: 0.9645 - precision: 0.9704 - recall: 0.9868 - f1_score: 0.9775 - val_loss: 0.2717 - val_acc: 0.8750 - val_precision: 0.9203 - val_recall: 0.9207 - val_f1_score: 0.9191\n",
      "Epoch 3/20\n",
      "125/125 [==============================] - 38s 302ms/step - loss: 0.1096 - acc: 0.9610 - precision: 0.9682 - recall: 0.9826 - f1_score: 0.9742 - val_loss: 0.6441 - val_acc: 0.8438 - val_precision: 0.8848 - val_recall: 0.9204 - val_f1_score: 0.9001\n",
      "Epoch 4/20\n",
      "125/125 [==============================] - 38s 305ms/step - loss: 0.0927 - acc: 0.9630 - precision: 0.9723 - recall: 0.9831 - f1_score: 0.9768 - val_loss: 0.3285 - val_acc: 0.8750 - val_precision: 0.9203 - val_recall: 0.9211 - val_f1_score: 0.9192\n",
      "Epoch 5/20\n",
      "125/125 [==============================] - 38s 304ms/step - loss: 0.1050 - acc: 0.9678 - precision: 0.9718 - recall: 0.9881 - f1_score: 0.9789 - val_loss: 0.2927 - val_acc: 0.9062 - val_precision: 0.9582 - val_recall: 0.9201 - val_f1_score: 0.9373\n",
      "Epoch 6/20\n",
      "125/125 [==============================] - 38s 306ms/step - loss: 0.1174 - acc: 0.9589 - precision: 0.9697 - recall: 0.9803 - f1_score: 0.9736 - val_loss: 0.2794 - val_acc: 0.8750 - val_precision: 0.9193 - val_recall: 0.9199 - val_f1_score: 0.9182\n",
      "Epoch 7/20\n",
      "125/125 [==============================] - 38s 304ms/step - loss: 0.1192 - acc: 0.9602 - precision: 0.9650 - recall: 0.9859 - f1_score: 0.9741 - val_loss: 0.4856 - val_acc: 0.8438 - val_precision: 0.8824 - val_recall: 0.9187 - val_f1_score: 0.8985\n",
      "Epoch 8/20\n",
      "125/125 [==============================] - 43s 343ms/step - loss: 0.1094 - acc: 0.9709 - precision: 0.9768 - recall: 0.9881 - f1_score: 0.9818 - val_loss: 0.3735 - val_acc: 0.9062 - val_precision: 0.9585 - val_recall: 0.9192 - val_f1_score: 0.9372\n",
      "Epoch 9/20\n",
      "125/125 [==============================] - 38s 303ms/step - loss: 0.1036 - acc: 0.9632 - precision: 0.9673 - recall: 0.9889 - f1_score: 0.9767 - val_loss: 0.4289 - val_acc: 0.8750 - val_precision: 0.9190 - val_recall: 0.9193 - val_f1_score: 0.9179\n",
      "Epoch 10/20\n",
      "125/125 [==============================] - 38s 302ms/step - loss: 0.1166 - acc: 0.9664 - precision: 0.9722 - recall: 0.9857 - f1_score: 0.9780 - val_loss: 0.5213 - val_acc: 0.9062 - val_precision: 0.9578 - val_recall: 0.9210 - val_f1_score: 0.9379\n",
      "Epoch 11/20\n",
      "125/125 [==============================] - 38s 302ms/step - loss: 0.0914 - acc: 0.9674 - precision: 0.9755 - recall: 0.9855 - f1_score: 0.9794 - val_loss: 0.8693 - val_acc: 0.8750 - val_precision: 0.8621 - val_recall: 1.0000 - val_f1_score: 0.9250\n",
      "Epoch 12/20\n",
      "125/125 [==============================] - 38s 304ms/step - loss: 0.0795 - acc: 0.9703 - precision: 0.9769 - recall: 0.9863 - f1_score: 0.9807 - val_loss: 0.6457 - val_acc: 0.9062 - val_precision: 0.8934 - val_recall: 1.0000 - val_f1_score: 0.9425\n",
      "Epoch 13/20\n",
      "125/125 [==============================] - 38s 305ms/step - loss: 0.1005 - acc: 0.9705 - precision: 0.9773 - recall: 0.9869 - f1_score: 0.9812 - val_loss: 0.5328 - val_acc: 0.9688 - val_precision: 0.9614 - val_recall: 1.0000 - val_f1_score: 0.9799\n",
      "Epoch 14/20\n",
      "125/125 [==============================] - 60s 482ms/step - loss: 0.1506 - acc: 0.9636 - precision: 0.9726 - recall: 0.9846 - f1_score: 0.9773 - val_loss: 0.4590 - val_acc: 0.9062 - val_precision: 0.8929 - val_recall: 1.0000 - val_f1_score: 0.9424\n",
      "Epoch 15/20\n",
      "125/125 [==============================] - 64s 510ms/step - loss: 0.0712 - acc: 0.9799 - precision: 0.9817 - recall: 0.9933 - f1_score: 0.9868 - val_loss: 0.4402 - val_acc: 0.8750 - val_precision: 0.9204 - val_recall: 0.9214 - val_f1_score: 0.9195\n",
      "Epoch 16/20\n",
      "125/125 [==============================] - 63s 504ms/step - loss: 0.0861 - acc: 0.9735 - precision: 0.9801 - recall: 0.9875 - f1_score: 0.9831 - val_loss: 0.5520 - val_acc: 0.9062 - val_precision: 0.9577 - val_recall: 0.9194 - val_f1_score: 0.9372\n",
      "Epoch 17/20\n",
      "125/125 [==============================] - 63s 506ms/step - loss: 0.0919 - acc: 0.9735 - precision: 0.9782 - recall: 0.9890 - f1_score: 0.9830 - val_loss: 0.2729 - val_acc: 0.9062 - val_precision: 0.9584 - val_recall: 0.9212 - val_f1_score: 0.9383\n",
      "Epoch 18/20\n",
      "125/125 [==============================] - 63s 503ms/step - loss: 0.0805 - acc: 0.9754 - precision: 0.9803 - recall: 0.9881 - f1_score: 0.9834 - val_loss: 0.1918 - val_acc: 0.9688 - val_precision: 0.9620 - val_recall: 1.0000 - val_f1_score: 0.9802\n",
      "Epoch 19/20\n",
      "125/125 [==============================] - 63s 506ms/step - loss: 0.0975 - acc: 0.9750 - precision: 0.9814 - recall: 0.9878 - f1_score: 0.9839 - val_loss: 0.2082 - val_acc: 0.9062 - val_precision: 0.9579 - val_recall: 0.9203 - val_f1_score: 0.9371\n",
      "Epoch 20/20\n",
      "125/125 [==============================] - 64s 511ms/step - loss: 0.0825 - acc: 0.9765 - precision: 0.9821 - recall: 0.9891 - f1_score: 0.9850 - val_loss: 0.1579 - val_acc: 0.9375 - val_precision: 0.9603 - val_recall: 0.9600 - val_f1_score: 0.9592\n"
     ]
    },
    {
     "data": {
      "text/plain": [
       "<keras.callbacks.History at 0x7fa27c131a90>"
      ]
     },
     "execution_count": 16,
     "metadata": {},
     "output_type": "execute_result"
    }
   ],
   "source": [
    "model.fit_generator(\n",
    "    train_generator,\n",
    "    steps_per_epoch=nb_train_samples // batch_size,\n",
    "    epochs=epochs,\n",
    "    validation_data=validation_generator,\n",
    "    validation_steps=nb_validation_samples // batch_size)"
   ]
  },
  {
   "cell_type": "code",
   "execution_count": 19,
   "metadata": {},
   "outputs": [],
   "source": [
    "def save(name):# serialize model to JSON\n",
    "    model_json = model.to_json()\n",
    "    with open(name+'.json', \"w\") as json_file:\n",
    "        json_file.write(model_json)\n",
    "    # serialize weights to HDF5\n",
    "    model.save_weights(name+\".h5\")\n",
    "    print(\"Saved model to disk\")\n",
    "# late"
   ]
  },
  {
   "cell_type": "code",
   "execution_count": 20,
   "metadata": {},
   "outputs": [],
   "source": [
    "def load(name):\n",
    "    # load json and create model\n",
    "    json_file = open(name+'.json', 'r')\n",
    "    loaded_model_json = json_file.read()\n",
    "    json_file.close()\n",
    "    loaded_model = model_from_json(loaded_model_json)\n",
    "    # load weights into new model\n",
    "    loaded_model.load_weights(name+'.h5')\n",
    "    print(\"Loaded model from disk\")\n",
    "    return loaded_model\n"
   ]
  },
  {
   "cell_type": "code",
   "execution_count": 21,
   "metadata": {},
   "outputs": [
    {
     "name": "stdout",
     "output_type": "stream",
     "text": [
      "Saved model to disk\n"
     ]
    }
   ],
   "source": [
    "save('model1')"
   ]
  },
  {
   "cell_type": "code",
   "execution_count": 24,
   "metadata": {},
   "outputs": [
    {
     "name": "stdout",
     "output_type": "stream",
     "text": [
      "Loaded model from disk\n"
     ]
    }
   ],
   "source": [
    "m = load('model1')"
   ]
  },
  {
   "cell_type": "code",
   "execution_count": 25,
   "metadata": {},
   "outputs": [
    {
     "name": "stdout",
     "output_type": "stream",
     "text": [
      "_________________________________________________________________\n",
      "Layer (type)                 Output Shape              Param #   \n",
      "=================================================================\n",
      "conv2d_1 (Conv2D)            (None, 148, 148, 32)      896       \n",
      "_________________________________________________________________\n",
      "activation_1 (Activation)    (None, 148, 148, 32)      0         \n",
      "_________________________________________________________________\n",
      "max_pooling2d_1 (MaxPooling2 (None, 74, 74, 32)        0         \n",
      "_________________________________________________________________\n",
      "conv2d_2 (Conv2D)            (None, 72, 72, 32)        9248      \n",
      "_________________________________________________________________\n",
      "activation_2 (Activation)    (None, 72, 72, 32)        0         \n",
      "_________________________________________________________________\n",
      "max_pooling2d_2 (MaxPooling2 (None, 36, 36, 32)        0         \n",
      "_________________________________________________________________\n",
      "conv2d_3 (Conv2D)            (None, 34, 34, 64)        18496     \n",
      "_________________________________________________________________\n",
      "activation_3 (Activation)    (None, 34, 34, 64)        0         \n",
      "_________________________________________________________________\n",
      "max_pooling2d_3 (MaxPooling2 (None, 17, 17, 64)        0         \n",
      "_________________________________________________________________\n",
      "flatten_1 (Flatten)          (None, 18496)             0         \n",
      "_________________________________________________________________\n",
      "dense_1 (Dense)              (None, 64)                1183808   \n",
      "_________________________________________________________________\n",
      "activation_4 (Activation)    (None, 64)                0         \n",
      "_________________________________________________________________\n",
      "dropout_1 (Dropout)          (None, 64)                0         \n",
      "_________________________________________________________________\n",
      "dense_2 (Dense)              (None, 1)                 65        \n",
      "_________________________________________________________________\n",
      "activation_5 (Activation)    (None, 1)                 0         \n",
      "=================================================================\n",
      "Total params: 1,212,513\n",
      "Trainable params: 1,212,513\n",
      "Non-trainable params: 0\n",
      "_________________________________________________________________\n"
     ]
    }
   ],
   "source": [
    "m.summary()"
   ]
  },
  {
   "cell_type": "code",
   "execution_count": null,
   "metadata": {},
   "outputs": [],
   "source": []
  }
 ],
 "metadata": {
  "kernelspec": {
   "display_name": "Python 3",
   "language": "python",
   "name": "python3"
  },
  "language_info": {
   "codemirror_mode": {
    "name": "ipython",
    "version": 3
   },
   "file_extension": ".py",
   "mimetype": "text/x-python",
   "name": "python",
   "nbconvert_exporter": "python",
   "pygments_lexer": "ipython3",
   "version": "3.6.4"
  }
 },
 "nbformat": 4,
 "nbformat_minor": 2
}
